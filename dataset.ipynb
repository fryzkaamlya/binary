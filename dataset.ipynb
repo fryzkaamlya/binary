{
 "cells": [
  {
   "cell_type": "code",
   "execution_count": 69,
   "metadata": {},
   "outputs": [
    {
     "name": "stdout",
     "output_type": "stream",
     "text": [
      "       col1   col2   col3   col4   col5   col6   col7   col8   col9  col10  \\\n",
      "0     38.29  38.29  38.29  38.29  38.29  38.29  38.66  38.66  38.66  38.66   \n",
      "1     39.03  38.66  39.03  39.03  39.03  39.03  39.03  39.03  39.03  39.03   \n",
      "2     39.41  39.41  39.41  39.41  39.41  39.41  39.78  39.41  39.78  39.78   \n",
      "3     39.78  39.78  39.78  39.78  40.15  40.15  40.15  40.15  40.15  40.15   \n",
      "4     40.52  40.52  40.52  40.52  40.52  40.52  40.52  40.52  40.52  40.52   \n",
      "...     ...    ...    ...    ...    ...    ...    ...    ...    ...    ...   \n",
      "4470  72.63  72.63  72.63  72.63  72.63  72.63  72.63  72.63  72.89  72.89   \n",
      "4471  72.89  72.63  72.63  72.63  72.63  72.63  72.63  72.63  72.63  72.63   \n",
      "4472  72.63  72.89  72.63  72.63  72.63  72.63  72.63  72.63  72.63  72.63   \n",
      "4473  72.63  72.63  72.63  72.63  72.89  72.89  72.89  72.63  72.63  72.63   \n",
      "4474  72.63  72.63  72.63  72.63  72.63  72.63  72.89  72.89  72.89  72.89   \n",
      "\n",
      "      target  \n",
      "0          1  \n",
      "1          1  \n",
      "2          1  \n",
      "3          1  \n",
      "4          1  \n",
      "...      ...  \n",
      "4470       1  \n",
      "4471       1  \n",
      "4472       1  \n",
      "4473       1  \n",
      "4474       1  \n",
      "\n",
      "[4475 rows x 11 columns]\n"
     ]
    }
   ],
   "source": [
    "import pandas as pd\n",
    "dataset = pd.read_csv('F:/rekayasa tugas/dataset2.csv',  sep=\";\")\n",
    "print(dataset)"
   ]
  },
  {
   "cell_type": "markdown",
   "metadata": {},
   "source": [
    " Syntax tersebut adalah kode Python yang menggunakan library pandas untuk membaca file CSV yang disimpan di lokasi 'F:/rekayasa tugas/dataset2.csv' dan kemudian mencetak isi dataset tersebut ke layar."
   ]
  },
  {
   "cell_type": "code",
   "execution_count": 62,
   "metadata": {},
   "outputs": [
    {
     "data": {
      "text/plain": [
       "Index(['col1;col2;col3;col4;col5;col6;col7;col8;col9;col10;target'], dtype='object')"
      ]
     },
     "execution_count": 62,
     "metadata": {},
     "output_type": "execute_result"
    }
   ],
   "source": [
    "dataset.columns"
   ]
  },
  {
   "cell_type": "markdown",
   "metadata": {},
   "source": [
    "dataset.columns adalah atribut dari objek DataFrame dalam library pandas di Python. Atribut ini berisi daftar label kolom dari DataFrame tersebut. Dengan menggunakan dataset.columns,  dapat mengakses dan melihat daftar nama-nama kolom yang ada dalam DataFrame."
   ]
  },
  {
   "cell_type": "code",
   "execution_count": 103,
   "metadata": {},
   "outputs": [
    {
     "name": "stdout",
     "output_type": "stream",
     "text": [
      "<class 'pandas.core.frame.DataFrame'>\n",
      "RangeIndex: 4475 entries, 0 to 4474\n",
      "Data columns (total 11 columns):\n",
      " #   Column  Non-Null Count  Dtype  \n",
      "---  ------  --------------  -----  \n",
      " 0   col1    4475 non-null   float64\n",
      " 1   col2    4475 non-null   float64\n",
      " 2   col3    4475 non-null   float64\n",
      " 3   col4    4475 non-null   float64\n",
      " 4   col5    4475 non-null   float64\n",
      " 5   col6    4475 non-null   float64\n",
      " 6   col7    4475 non-null   float64\n",
      " 7   col8    4475 non-null   float64\n",
      " 8   col9    4475 non-null   float64\n",
      " 9   col10   4475 non-null   float64\n",
      " 10  target  4475 non-null   int64  \n",
      "dtypes: float64(10), int64(1)\n",
      "memory usage: 384.7 KB\n"
     ]
    }
   ],
   "source": [
    "dataset.info()"
   ]
  },
  {
   "cell_type": "markdown",
   "metadata": {},
   "source": [
    "dataset.info() adalah metode dalam pandas yang memberikan ringkasan tentang dataset, mencakup jumlah baris dan kolom, tipe data untuk setiap kolom, serta jumlah nilai non-null dalam setiap kolom. Ini membantu dalam mendapatkan gambaran umum tentang dataset, termasuk tipe data yang digunakan dan apakah ada nilai yang hilang (null)."
   ]
  },
  {
   "cell_type": "code",
   "execution_count": 70,
   "metadata": {},
   "outputs": [
    {
     "name": "stdout",
     "output_type": "stream",
     "text": [
      "col1      0\n",
      "col2      0\n",
      "col3      0\n",
      "col4      0\n",
      "col5      0\n",
      "col6      0\n",
      "col7      0\n",
      "col8      0\n",
      "col9      0\n",
      "col10     0\n",
      "target    0\n",
      "dtype: int64\n"
     ]
    }
   ],
   "source": [
    "print(dataset.isnull().sum())"
   ]
  },
  {
   "cell_type": "markdown",
   "metadata": {},
   "source": [
    "print(dataset.isnull().sum()) adalah perintah untuk menampilkan jumlah nilai null dalam setiap kolom dari dataset menggunakan pandas di Python. Ini membantu mengidentifikasi kolom-kolom di mana ada data yang hilang, yang penting untuk analisis dan pemrosesan data selanjutnya."
   ]
  },
  {
   "cell_type": "code",
   "execution_count": 106,
   "metadata": {},
   "outputs": [],
   "source": [
    "x = dataset[['col1','col2','col3','col4','col5','col6','col7','col8','col9','col10']]"
   ]
  },
  {
   "cell_type": "code",
   "execution_count": 107,
   "metadata": {},
   "outputs": [
    {
     "name": "stdout",
     "output_type": "stream",
     "text": [
      "       col1   col2   col3   col4   col5   col6   col7   col8   col9  col10\n",
      "0     38.29  38.29  38.29  38.29  38.29  38.29  38.66  38.66  38.66  38.66\n",
      "1     39.03  38.66  39.03  39.03  39.03  39.03  39.03  39.03  39.03  39.03\n",
      "2     39.41  39.41  39.41  39.41  39.41  39.41  39.78  39.41  39.78  39.78\n",
      "3     39.78  39.78  39.78  39.78  40.15  40.15  40.15  40.15  40.15  40.15\n",
      "4     40.52  40.52  40.52  40.52  40.52  40.52  40.52  40.52  40.52  40.52\n",
      "...     ...    ...    ...    ...    ...    ...    ...    ...    ...    ...\n",
      "4470  72.63  72.63  72.63  72.63  72.63  72.63  72.63  72.63  72.89  72.89\n",
      "4471  72.89  72.63  72.63  72.63  72.63  72.63  72.63  72.63  72.63  72.63\n",
      "4472  72.63  72.89  72.63  72.63  72.63  72.63  72.63  72.63  72.63  72.63\n",
      "4473  72.63  72.63  72.63  72.63  72.89  72.89  72.89  72.63  72.63  72.63\n",
      "4474  72.63  72.63  72.63  72.63  72.63  72.63  72.89  72.89  72.89  72.89\n",
      "\n",
      "[4475 rows x 10 columns]\n"
     ]
    }
   ],
   "source": [
    "print(x)"
   ]
  },
  {
   "cell_type": "markdown",
   "metadata": {},
   "source": [
    "Syntax tersebut memilih kolom-kolom tertentu dari dataset menggunakan label kolom, dan menyimpannya dalam variabel x. Kemudian, isi dari variabel x, yaitu subset dataset yang hanya berisi kolom-kolom yang dipilih sebelumnya, dicetak ke layar."
   ]
  },
  {
   "cell_type": "code",
   "execution_count": 108,
   "metadata": {},
   "outputs": [],
   "source": [
    "dataset['target'] = dataset['target'].astype(int)"
   ]
  },
  {
   "cell_type": "markdown",
   "metadata": {},
   "source": [
    "Syntax tersebut secara singkat mengubah tipe data kolom 'target' dalam dataset menjadi tipe data integer."
   ]
  },
  {
   "cell_type": "code",
   "execution_count": null,
   "metadata": {},
   "outputs": [],
   "source": [
    "y = ['target']"
   ]
  },
  {
   "cell_type": "code",
   "execution_count": null,
   "metadata": {},
   "outputs": [
    {
     "name": "stdout",
     "output_type": "stream",
     "text": [
      "['target']\n"
     ]
    }
   ],
   "source": [
    "print(y)"
   ]
  },
  {
   "cell_type": "markdown",
   "metadata": {},
   "source": [
    "\n",
    "Syntax tersebut membuat variabel y yang berisi list dengan satu elemen, yaitu string 'target'. Kemudian, isi dari variabel y dicetak ke layar."
   ]
  },
  {
   "cell_type": "code",
   "execution_count": null,
   "metadata": {},
   "outputs": [],
   "source": [
    "dataset['target'] = [int(value) for value in dataset['target']]\n"
   ]
  },
  {
   "cell_type": "code",
   "execution_count": null,
   "metadata": {},
   "outputs": [
    {
     "name": "stdout",
     "output_type": "stream",
     "text": [
      "0       1\n",
      "1       1\n",
      "2       1\n",
      "3       1\n",
      "4       1\n",
      "       ..\n",
      "4470    1\n",
      "4471    1\n",
      "4472    1\n",
      "4473    1\n",
      "4474    1\n",
      "Name: target, Length: 4475, dtype: int64\n"
     ]
    }
   ],
   "source": [
    "print(dataset['target'])"
   ]
  },
  {
   "cell_type": "markdown",
   "metadata": {},
   "source": [
    "\n",
    "Syntax tersebut secara singkat mengubah nilai-nilai dalam kolom 'target' menjadi integer dan kemudian mencetak kolom 'target' yang telah diubah."
   ]
  },
  {
   "cell_type": "code",
   "execution_count": null,
   "metadata": {},
   "outputs": [],
   "source": [
    "y = ['target']"
   ]
  },
  {
   "cell_type": "code",
   "execution_count": null,
   "metadata": {},
   "outputs": [
    {
     "name": "stdout",
     "output_type": "stream",
     "text": [
      "['target']\n"
     ]
    }
   ],
   "source": [
    "print(y)"
   ]
  },
  {
   "cell_type": "code",
   "execution_count": 105,
   "metadata": {},
   "outputs": [],
   "source": [
    "import numpy as np\n",
    "from sklearn.model_selection import train_test_split"
   ]
  },
  {
   "cell_type": "markdown",
   "metadata": {},
   "source": [
    "\n",
    "Syntax ini mengimpor library numpy dengan alias np dan modul train_test_split dari library sklearn.model_selection di Python. Numpy adalah library yang sangat berguna untuk komputasi numerik, sedangkan modul train_test_split digunakan untuk membagi dataset menjadi subset pelatihan dan pengujian (testing) secara acak, yang sering digunakan dalam pengembangan model machine learning. Dengan menggabungkan kedua pernyataan tersebut, kita dapat menggunakan fungsi-fungsi yang disediakan oleh kedua library ini dalam kode kita."
   ]
  },
  {
   "cell_type": "code",
   "execution_count": 94,
   "metadata": {},
   "outputs": [],
   "source": [
    "y = np.array([1] * 4475)"
   ]
  },
  {
   "cell_type": "markdown",
   "metadata": {},
   "source": [
    "Syntax tersebut membuat array NumPy dengan panjang 4475 yang berisi nilai 1, dan menyimpannya dalam variabel y"
   ]
  },
  {
   "cell_type": "code",
   "execution_count": 95,
   "metadata": {},
   "outputs": [],
   "source": [
    "x_train, x_test, y_train, y_test = train_test_split(x, y, test_size=0.2, random_state=1)"
   ]
  },
  {
   "cell_type": "markdown",
   "metadata": {},
   "source": [
    "\n",
    "Syntax train_test_split digunakan untuk membagi dataset menjadi subset pelatihan dan pengujian dengan proporsi tertentu. Dalam syntax tersebut, parameter x menyimpan fitur-fitur dataset, y menyimpan target variabel atau label, test_size=0.2 menentukan bahwa 20% dari dataset akan digunakan sebagai data pengujian, dan random_state=1 mengatur seed untuk generator nomor acak agar hasilnya dapat direproduksi. Hasilnya disimpan dalam variabel x_train, x_test untuk fitur, dan y_train, y_test untuk target, secara berturut-turut."
   ]
  },
  {
   "cell_type": "code",
   "execution_count": 96,
   "metadata": {},
   "outputs": [
    {
     "data": {
      "text/plain": [
       "895"
      ]
     },
     "execution_count": 96,
     "metadata": {},
     "output_type": "execute_result"
    }
   ],
   "source": [
    "len(x_test)"
   ]
  },
  {
   "cell_type": "markdown",
   "metadata": {},
   "source": [
    "Fungsi len() dalam Python digunakan untuk menghitung panjang atau jumlah elemen dalam suatu objek. sementara variabel x_test adalah subset fitur dari dataset yang digunakan untuk pengujian"
   ]
  },
  {
   "cell_type": "code",
   "execution_count": 97,
   "metadata": {},
   "outputs": [
    {
     "data": {
      "text/plain": [
       "3580"
      ]
     },
     "execution_count": 97,
     "metadata": {},
     "output_type": "execute_result"
    }
   ],
   "source": [
    "len(y_train)"
   ]
  },
  {
   "cell_type": "markdown",
   "metadata": {},
   "source": [
    "len(y_train) adalah sebuah fungsi dalam Python yang digunakan untuk menghitung jumlah elemen dalam variabel y_train, yaitu subset target dari dataset yang digunakan untuk pelatihan."
   ]
  },
  {
   "cell_type": "code",
   "execution_count": 98,
   "metadata": {},
   "outputs": [],
   "source": [
    "from sklearn import tree\n",
    "\n",
    "clf = tree.DecisionTreeClassifier()"
   ]
  },
  {
   "cell_type": "markdown",
   "metadata": {},
   "source": [
    "\n",
    "Syntax tersebut mengimpor kelas DecisionTreeClassifier dari modul tree dalam library sklearn. Kemudian, kelas DecisionTreeClassifier() digunakan untuk membuat objek classifier dengan menggunakan default parameter."
   ]
  },
  {
   "cell_type": "code",
   "execution_count": 101,
   "metadata": {},
   "outputs": [],
   "source": [
    "from sklearn.model_selection import cross_val_score\n",
    "scores = cross_val_score(clf, x, y, cv=5)"
   ]
  },
  {
   "cell_type": "markdown",
   "metadata": {},
   "source": [
    "Syntax ini menggunakan modul cross_val_score dari sklearn.model_selection untuk melakukan validasi silang pada model yang telah dibuat sebelumnya (clf). Dalam validasi silang ini, data x dan y digunakan dengan metode validasi silang dengan 5 lipatan (cv=5). Hasil evaluasi model disimpan dalam variabel scores"
   ]
  },
  {
   "cell_type": "code",
   "execution_count": 102,
   "metadata": {},
   "outputs": [
    {
     "data": {
      "text/plain": [
       "array([1., 1., 1., 1., 1.])"
      ]
     },
     "execution_count": 102,
     "metadata": {},
     "output_type": "execute_result"
    }
   ],
   "source": [
    "scores"
   ]
  },
  {
   "cell_type": "markdown",
   "metadata": {},
   "source": [
    "\n",
    "Variabel scores berisi hasil evaluasi performa model pada setiap lipatan validasi silang."
   ]
  }
 ],
 "metadata": {
  "kernelspec": {
   "display_name": "Python 3",
   "language": "python",
   "name": "python3"
  },
  "language_info": {
   "codemirror_mode": {
    "name": "ipython",
    "version": 3
   },
   "file_extension": ".py",
   "mimetype": "text/x-python",
   "name": "python",
   "nbconvert_exporter": "python",
   "pygments_lexer": "ipython3",
   "version": "3.12.3"
  }
 },
 "nbformat": 4,
 "nbformat_minor": 2
}
